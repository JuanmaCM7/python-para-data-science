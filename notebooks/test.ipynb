{
 "cells": [
  {
   "cell_type": "code",
   "execution_count": null,
   "id": "a0083898",
   "metadata": {},
   "outputs": [
    {
     "name": "stdout",
     "output_type": "stream",
     "text": [
      "📁 Working directory now set to: F:\\JCMDataCenter\\Proyectos\\Python-data-science\n"
     ]
    }
   ],
   "source": [
    "from pathlib import Path\n",
    "import os\n",
    "\n",
    "# Define project root as parent of current notebook\n",
    "notebook_path = Path().resolve()\n",
    "project_root = notebook_path.parent  # Si estás en notebooks/\n",
    "\n",
    "# Cambiar a raíz del proyecto\n",
    "os.chdir(project_root)\n",
    "print(\"📁 Working directory now set to:\", os.getcwd())\n",
    "\n",
    "# conda activate luz"
   ]
  },
  {
   "cell_type": "markdown",
   "id": "bfe868da",
   "metadata": {},
   "source": [
    "## PYTHON PARA DATA SCIENCE"
   ]
  },
  {
   "cell_type": "markdown",
   "id": "12ecd4cc",
   "metadata": {},
   "source": [
    "### 🚀 Tema 0: Introducción a la Ciencia de Datos\n",
    "\n",
    "La **Ciencia de Datos** es el proceso de extraer conocimiento a partir de datos.  \n",
    "Incluye varias etapas que se repiten en la mayoría de proyectos:\n",
    "\n",
    "- **Recolectar** → obtener datos (APIs, bases de datos, ficheros, scraping, sensores).  \n",
    "- **Procesar / Limpiar (ETL)** → preparar datos crudos para análisis.  \n",
    "- **Explorar (EDA)** → entender los datos con estadísticas y visualizaciones.  \n",
    "- **Analizar / Modelar** → aplicar algoritmos, machine learning o estadísticas.  \n",
    "- **Comunicar** → mostrar resultados (dashboards, informes, visualizaciones).\n",
    "\n",
    "**Conceptos clave**\n",
    "- **ETL (Extract, Transform, Load)** → limpiar y preparar datos.  \n",
    "- **EDA (Exploratory Data Analysis)** → análisis inicial de datos.  \n",
    "- **Features** → variables o columnas de un dataset.  \n",
    "- **Observations / registros** → filas de un dataset.  \n",
    "- **Modelo** → algoritmo entrenado para hacer predicciones.  \n",
    "- **Dashboard** → visualización interactiva de resultados.  \n"
   ]
  },
  {
   "cell_type": "code",
   "execution_count": 24,
   "id": "839be07a",
   "metadata": {},
   "outputs": [
    {
     "name": "stdout",
     "output_type": "stream",
     "text": [
      "              Year     Runtime  IMDB_Rating         Votes       Revenue\n",
      "count   784.000000  784.000000   784.000000  7.840000e+02  7.840000e+02\n",
      "mean   1994.839286  124.596939     7.948852  3.302183e+05  7.167716e+07\n",
      "std      20.218088   27.449632     0.287454  3.479622e+05  1.117599e+08\n",
      "min    1921.000000   45.000000     7.600000  2.508800e+04  1.305000e+03\n",
      "25%    1985.000000  104.750000     7.700000  7.898400e+04  4.360000e+06\n",
      "50%    2001.000000  121.000000     7.900000  2.038190e+05  2.684622e+07\n",
      "75%    2010.000000  138.000000     8.100000  4.660935e+05  9.038281e+07\n",
      "max    2019.000000  242.000000     9.300000  2.343110e+06  9.366622e+08\n"
     ]
    },
    {
     "data": {
      "image/png": "[encoded data removed]",
      "text/plain": [
       "<Figure size 640x480 with 6 Axes>"
      ]
     },
     "metadata": {},
     "output_type": "display_data"
    }
   ],
   "source": [
    "# Ejemplo de flujo en ciencia de datos con Python\n",
    "import pandas as pd\n",
    "import matplotlib.pyplot as plt\n",
    "\n",
    "# 1. Recolectar\n",
    "df = pd.read_csv(\"data/cleaned_imdb_top_1000.csv\")\n",
    "\n",
    "# 2. Procesar\n",
    "df = df.dropna()   # eliminar valores nulos\n",
    "\n",
    "# 3. Explorar\n",
    "print(df.describe())  # estadísticas básicas\n",
    "\n",
    "# 4. Visualizar\n",
    "df.hist()\n",
    "plt.show()"
   ]
  },
  {
   "cell_type": "markdown",
   "id": "7026e870",
   "metadata": {},
   "source": [
    "#### 📦 Caja de herramientas – Ciencia de Datos (conceptos)\n",
    "\n",
    "- **ETL**: extraer, transformar, cargar datos.  \n",
    "- **EDA**: explorar y describir datos.  \n",
    "- **Features**: columnas.  \n",
    "- **Registros**: filas.  \n",
    "- **Modelo**: algoritmo entrenado.  \n",
    "- **Dashboard**: visualización de resultados.\n",
    "\n",
    "### 📝 Ejercicios\n",
    "\n",
    "1. Escribe una definición propia de ciencia de datos.  \n",
    "2. Enumera las 5 fases de un proyecto con tus palabras.  \n",
    "3. Busca un dataset pequeño (CSV) en Kaggle/GitHub/Google Dataset Search y anota su origen.  "
   ]
  },
  {
   "cell_type": "markdown",
   "id": "980a5f78",
   "metadata": {},
   "source": [
    "### 🚀 Tema 1: Variables en Python\n",
    "\n",
    "Una **variable** es un nombre que almacena un valor en memoria.  \n",
    "En Python no necesitas declarar el tipo, se asigna automáticamente según el valor.  \n",
    "\n",
    "**Conceptos clave**\n",
    "- Python es **dinámicamente tipado** → no defines el tipo, se asigna al valor.  \n",
    "- Una variable puede cambiar de tipo durante la ejecución.  \n",
    "- Tipos básicos:  \n",
    "  - `int` → enteros (10, -5, 0)  \n",
    "  - `float` → decimales (3.14, -2.5)  \n",
    "  - `str` → cadenas de texto (\"hola\")  \n",
    "  - `bool` → booleanos (`True`, `False`)  "
   ]
  },
  {
   "cell_type": "code",
   "execution_count": 26,
   "id": "ea87f68e",
   "metadata": {},
   "outputs": [
    {
     "name": "stdout",
     "output_type": "stream",
     "text": [
      "Juan 27 1.78 True\n"
     ]
    }
   ],
   "source": [
    "# Ejemplo de variables en Python\n",
    "name = \"Juan\"\n",
    "age = 27\n",
    "height = 1.78\n",
    "is_student = True\n",
    "\n",
    "print(name, age, height, is_student)"
   ]
  },
  {
   "cell_type": "markdown",
   "id": "0555b2fd",
   "metadata": {},
   "source": [
    "#### 📦 Caja de herramientas – Variables\n",
    "\n",
    "```python\n",
    "# type() → devuelve el tipo de dato\n",
    "type(name)   # str\n",
    "type(age)    # int\n",
    "\n",
    "# str() → convierte a string\n",
    "str(100)   # \"100\"\n",
    "\n",
    "# int() → convierte a entero\n",
    "int(\"25\")  # 25\n",
    "\n",
    "# float() → convierte a decimal\n",
    "float(\"3.14\")  # 3.14\n",
    "\n",
    "# bool() → convierte a booleano\n",
    "bool(0)     # False\n",
    "bool(1)     # True"
   ]
  },
  {
   "cell_type": "markdown",
   "id": "1d8630bc",
   "metadata": {},
   "source": [
    "#### 📝 Ejercicios\n",
    "\n",
    "* Crea variables con tu nombre, tu edad y tu altura.\n",
    "\n",
    "* Muestra el tipo de cada una con type().\n",
    "\n",
    "* Convierte tu edad a string con str().\n",
    "\n",
    "* Crea una variable booleana que sea True si tu edad es mayor a 18.\n",
    "\n",
    "* Imprime todo en una sola línea (usa print)."
   ]
  },
  {
   "cell_type": "code",
   "execution_count": 28,
   "id": "7f35e32b",
   "metadata": {},
   "outputs": [],
   "source": [
    "name = \"Juanma\"\n",
    "age = 31\n",
    "height = 1.79"
   ]
  },
  {
   "cell_type": "code",
   "execution_count": 36,
   "id": "538fe1bd",
   "metadata": {},
   "outputs": [
    {
     "name": "stdout",
     "output_type": "stream",
     "text": [
      "<class 'str'>\n",
      "<class 'int'>\n",
      "<class 'float'>\n"
     ]
    }
   ],
   "source": [
    "print(type(name))\n",
    "print(type(age))\n",
    "print(type(height))"
   ]
  },
  {
   "cell_type": "code",
   "execution_count": 37,
   "id": "c70a9176",
   "metadata": {},
   "outputs": [
    {
     "name": "stdout",
     "output_type": "stream",
     "text": [
      "31 <class 'str'>\n"
     ]
    }
   ],
   "source": [
    "age_str = str(age)\n",
    "print(age_str, type(age_str))"
   ]
  },
  {
   "cell_type": "code",
   "execution_count": 38,
   "id": "2ba43b62",
   "metadata": {},
   "outputs": [
    {
     "name": "stdout",
     "output_type": "stream",
     "text": [
      "True\n"
     ]
    }
   ],
   "source": [
    "is_adult = age > 18\n",
    "print(is_adult)"
   ]
  },
  {
   "cell_type": "code",
   "execution_count": 39,
   "id": "402a7ace",
   "metadata": {},
   "outputs": [
    {
     "name": "stdout",
     "output_type": "stream",
     "text": [
      "Juanma 31 1.79 True\n"
     ]
    }
   ],
   "source": [
    "print(name, age, height, is_adult)"
   ]
  },
  {
   "cell_type": "markdown",
   "id": "493a80b4",
   "metadata": {},
   "source": [
    "### 🚀 Tema 2: Listas en Python\n",
    "\n",
    "Las listas son colecciones ordenadas de elementos que puedes modificar. Se crean con `[]`.\n",
    "\n",
    "- Pueden contener números, strings, booleanos, incluso otras listas.  \n",
    "- Se accede a los elementos con índices (empiezan en 0).  \n",
    "- Se pueden modificar, añadir o eliminar elementos.  \n",
    "- `remove()` elimina por valor – es necesario pasarle el elemento que quieres borrar.  \n",
    "- Si quieres eliminar por posición (índice), usa `pop()`.  \n",
    "\n",
    "**Conceptos clave**\n",
    "- Estructura más usada en Python para almacenar secuencias.  \n",
    "- Índices positivos (desde 0) y negativos (desde -1 al final).  \n",
    "- Mutables → se pueden cambiar después de crearlas.  "
   ]
  },
  {
   "cell_type": "code",
   "execution_count": 1,
   "id": "c5a67ae6",
   "metadata": {},
   "outputs": [
    {
     "name": "stdout",
     "output_type": "stream",
     "text": [
      "apple\n",
      "cherry\n",
      "['orange', 'cherry', 'kiwi']\n"
     ]
    }
   ],
   "source": [
    "# Crear lista\n",
    "fruits = [\"apple\", \"banana\", \"cherry\"]\n",
    "\n",
    "# Acceder a elementos\n",
    "print(fruits[0])   # apple\n",
    "print(fruits[-1])  # cherry (índice negativo = desde el final)\n",
    "\n",
    "# Modificar un valor\n",
    "fruits[1] = \"orange\"\n",
    "\n",
    "# Añadir un valor\n",
    "fruits.append(\"kiwi\")\n",
    "\n",
    "# Eliminar un valor\n",
    "fruits.remove(\"apple\")\n",
    "\n",
    "print(fruits)"
   ]
  },
  {
   "cell_type": "markdown",
   "id": "4a260840",
   "metadata": {},
   "source": [
    "#### 📦 Caja de herramientas – Listas\n",
    "\n",
    "```python\n",
    "# append(x) → añade al final\n",
    "nums = [1,2]; nums.append(3)  # [1, 2, 3]\n",
    "\n",
    "# insert(i, x) → inserta en la posición i\n",
    "nums.insert(1, 5)  # [1, 5, 2, 3]\n",
    "\n",
    "# remove(x) → elimina por valor\n",
    "nums.remove(5)  # [1, 2, 3]\n",
    "\n",
    "# pop(i) → elimina por índice (si no se da, elimina el último)\n",
    "nums.pop(0)  # devuelve 1, lista -> [2, 3]\n",
    "\n",
    "# sort() → ordena la lista\n",
    "nums.sort()\n",
    "\n",
    "# reverse() → invierte el orden de la lista\n",
    "nums.reverse()"
   ]
  },
  {
   "cell_type": "markdown",
   "id": "8eb9738e",
   "metadata": {},
   "source": [
    "#### 📝 Ejercicios\n",
    "\n",
    "1. Listas\n",
    "\n",
    "* Crea una lista con 5 números.\n",
    "\n",
    "* Accede al tercer número.\n",
    "\n",
    "* Cambia el último número por otro.\n",
    "\n",
    "* Añade un nuevo número a la lista.\n",
    "\n",
    "* Elimina el primer número de la lista."
   ]
  },
  {
   "cell_type": "code",
   "execution_count": 4,
   "id": "f9a0e0ff",
   "metadata": {},
   "outputs": [],
   "source": [
    "numbers = [1, 2, 3, 4, 5]"
   ]
  },
  {
   "cell_type": "code",
   "execution_count": 5,
   "id": "03dff15a",
   "metadata": {},
   "outputs": [
    {
     "name": "stdout",
     "output_type": "stream",
     "text": [
      "3\n"
     ]
    }
   ],
   "source": [
    "print(numbers[2])"
   ]
  },
  {
   "cell_type": "code",
   "execution_count": 6,
   "id": "5da695e8",
   "metadata": {},
   "outputs": [
    {
     "name": "stdout",
     "output_type": "stream",
     "text": [
      "[1, 2, 3, 4, 13]\n"
     ]
    }
   ],
   "source": [
    "numbers[-1] = 13\n",
    "print(numbers)"
   ]
  },
  {
   "cell_type": "code",
   "execution_count": 7,
   "id": "d312de3e",
   "metadata": {},
   "outputs": [
    {
     "name": "stdout",
     "output_type": "stream",
     "text": [
      "[1, 2, 3, 4, 13, 25]\n"
     ]
    }
   ],
   "source": [
    "numbers.append(25)        \n",
    "print(numbers)"
   ]
  },
  {
   "cell_type": "code",
   "execution_count": 10,
   "id": "326f31fa",
   "metadata": {},
   "outputs": [
    {
     "name": "stdout",
     "output_type": "stream",
     "text": [
      "[2, 3, 4, 13, 25]\n"
     ]
    }
   ],
   "source": [
    "numbers.remove(1)\n",
    "print(numbers)"
   ]
  },
  {
   "cell_type": "markdown",
   "id": "2ef99caa",
   "metadata": {},
   "source": [
    "### 🚀 Tema 3: Diccionarios en Python\n",
    "\n",
    "Los diccionarios son colecciones de pares `clave: valor`. Se crean con `{}`.\n",
    "\n",
    "- Cada **clave** debe ser única.  \n",
    "- Acceso rápido a valores por su clave.  \n",
    "- Son mutables (puedes añadir, modificar y eliminar pares).  \n",
    "- `get()` evita error si la clave no existe.\n",
    "\n",
    "**Conceptos clave**\n",
    "- Muy usados para dar **contexto** a los datos.\n",
    "- Acceso con `[]` (lanza error si no existe) o `get()` (seguro).\n",
    "- Valores pueden ser de cualquier tipo (incluidos otros dicts/listas)."
   ]
  },
  {
   "cell_type": "code",
   "execution_count": 2,
   "id": "2254f6e7",
   "metadata": {},
   "outputs": [
    {
     "name": "stdout",
     "output_type": "stream",
     "text": [
      "Messi\n",
      "Inter Miami\n",
      "{'name': 'Messi', 'goals': 15, 'assists': 5}\n"
     ]
    }
   ],
   "source": [
    "# Crear diccionario\n",
    "player = {\n",
    "    \"name\": \"Messi\",\n",
    "    \"team\": \"Inter Miami\",\n",
    "    \"goals\": 12\n",
    "}\n",
    "\n",
    "# Acceder a valores\n",
    "print(player[\"name\"])   # Messi\n",
    "print(player.get(\"team\")) # Inter Miami\n",
    "\n",
    "# Modificar un valor\n",
    "player[\"goals\"] = 15\n",
    "\n",
    "# Añadir un nuevo par\n",
    "player[\"assists\"] = 5\n",
    "\n",
    "# Eliminar un par\n",
    "del player[\"team\"]\n",
    "\n",
    "print(player)"
   ]
  },
  {
   "cell_type": "markdown",
   "id": "0df6cebd",
   "metadata": {},
   "source": [
    "#### 📦 Caja de herramientas – Diccionarios\n",
    "\n",
    "```python\n",
    "# get(clave, defecto) → accede sin error\n",
    "player.get(\"team\", \"N/A\")\n",
    "\n",
    "# keys() → devuelve todas las claves\n",
    "player.keys()\n",
    "\n",
    "# values() → devuelve todos los valores\n",
    "player.values()\n",
    "\n",
    "# items() → devuelve pares (clave, valor)\n",
    "player.items()\n",
    "\n",
    "# pop(clave) → elimina y devuelve el valor\n",
    "player.pop(\"team\")\n",
    "\n",
    "# popitem() → elimina y devuelve el último par\n",
    "player.popitem()\n",
    "\n",
    "# clear() → vacía el diccionario\n",
    "player.clear()\n",
    "\n",
    "# update({...}) → añadir o actualizar pares\n",
    "player.update({\"team\": \"Real Madrid\", \"age\": 25})"
   ]
  },
  {
   "cell_type": "markdown",
   "id": "71897bfa",
   "metadata": {},
   "source": [
    "#### 📝 Ejercicios\n",
    "\n",
    "1. Diccionarios\n",
    "\n",
    "* Crea un diccionario con la info de un jugador de fútbol: nombre, equipo, edad, goles.\n",
    "\n",
    "* Muestra solo el nombre y el equipo.\n",
    "\n",
    "* Cambia la edad del jugador por una nueva.\n",
    "\n",
    "* Añade una nueva clave \"asistencias\" con valor 7.\n",
    "\n",
    "* Elimina la clave \"equipo\"."
   ]
  },
  {
   "cell_type": "code",
   "execution_count": 11,
   "id": "da664dbc",
   "metadata": {},
   "outputs": [],
   "source": [
    "player = {\n",
    "    \"name\": \"Rodrygo\",\n",
    "    \"team\": \"Real Madrid\",\n",
    "    \"age\": 24,\n",
    "    \"goals\": 18\n",
    "}"
   ]
  },
  {
   "cell_type": "code",
   "execution_count": 12,
   "id": "f27bae3a",
   "metadata": {},
   "outputs": [
    {
     "name": "stdout",
     "output_type": "stream",
     "text": [
      "Rodrygo\n",
      "Real Madrid\n"
     ]
    }
   ],
   "source": [
    "print(player[\"name\"])\n",
    "print(player[\"team\"])"
   ]
  },
  {
   "cell_type": "code",
   "execution_count": 14,
   "id": "8f7f4345",
   "metadata": {},
   "outputs": [
    {
     "name": "stdout",
     "output_type": "stream",
     "text": [
      "27\n"
     ]
    }
   ],
   "source": [
    "player[\"age\"] = 27\n",
    "print(player[\"age\"])"
   ]
  },
  {
   "cell_type": "code",
   "execution_count": 16,
   "id": "ed9b5b30",
   "metadata": {},
   "outputs": [
    {
     "name": "stdout",
     "output_type": "stream",
     "text": [
      "7\n"
     ]
    }
   ],
   "source": [
    "player[\"assists\"] = 7\n",
    "print(player[\"assists\"])"
   ]
  },
  {
   "cell_type": "code",
   "execution_count": 17,
   "id": "abbb662b",
   "metadata": {},
   "outputs": [
    {
     "name": "stdout",
     "output_type": "stream",
     "text": [
      "{'name': 'Rodrygo', 'age': 27, 'goals': 18, 'assists': 7}\n"
     ]
    }
   ],
   "source": [
    "del player[\"team\"]\n",
    "print(player)"
   ]
  },
  {
   "cell_type": "markdown",
   "id": "cfdcf90f",
   "metadata": {},
   "source": [
    "### 🚀 Tema 4: Tuplas en Python\n",
    "\n",
    "Las **tuplas** son colecciones ordenadas, pero **inmutables** (no se pueden modificar después de crearse).  \n",
    "Se crean con paréntesis `()`.\n",
    "\n",
    "- Pueden contener números, strings, booleanos, incluso otras tuplas.  \n",
    "- Se accede a los elementos con índices (igual que en listas).  \n",
    "- No se pueden modificar, añadir ni eliminar elementos.  \n",
    "- Son más rápidas y seguras que las listas cuando no necesitas cambios.  \n",
    "\n",
    "**Conceptos clave**\n",
    "- Tupla = lista inmutable.  \n",
    "- Útiles para datos que no deben cambiar (ejemplo: coordenadas, fechas, configuraciones).  \n",
    "- Se pueden “desempaquetar” fácilmente en variables.  "
   ]
  },
  {
   "cell_type": "code",
   "execution_count": 40,
   "id": "20bef9f8",
   "metadata": {},
   "outputs": [
    {
     "name": "stdout",
     "output_type": "stream",
     "text": [
      "10\n",
      "20\n",
      "x: 10 y: 20\n",
      "(1, 2)\n"
     ]
    }
   ],
   "source": [
    "# Ejemplo de tuplas en Python\n",
    "coordinates = (10, 20)\n",
    "\n",
    "# Acceder a elementos\n",
    "print(coordinates[0])  # 10\n",
    "print(coordinates[1])  # 20\n",
    "\n",
    "# Desempaquetar\n",
    "x, y = coordinates\n",
    "print(\"x:\", x, \"y:\", y)\n",
    "\n",
    "# Tupla dentro de una lista\n",
    "points = [(0, 0), (1, 2), (2, 4)]\n",
    "print(points[1])  # (1, 2)"
   ]
  },
  {
   "cell_type": "markdown",
   "id": "5ce8cd25",
   "metadata": {},
   "source": [
    "#### 📦 Caja de herramientas – Tuplas\n",
    "\n",
    "```python\n",
    "# count(x) → cuenta cuántas veces aparece x\n",
    "numbers = (1, 2, 2, 3)\n",
    "numbers.count(2)  # 2\n",
    "\n",
    "# index(x) → devuelve la primera posición de x\n",
    "numbers.index(3)  # 3"
   ]
  },
  {
   "cell_type": "markdown",
   "id": "0ad95ee0",
   "metadata": {},
   "source": [
    "#### 📝 Ejercicios\n",
    "\n",
    "1. Crea una tupla con 4 ciudades.  \n",
    "2. Muestra la segunda ciudad.  \n",
    "3. Desempaqueta la tupla en 4 variables y muéstralas.  \n",
    "4. Cuenta cuántas veces aparece una ciudad repetida en la tupla.  \n",
    "5. Obtén el índice de una ciudad concreta.  \n"
   ]
  },
  {
   "cell_type": "code",
   "execution_count": 41,
   "id": "e7345365",
   "metadata": {},
   "outputs": [
    {
     "name": "stdout",
     "output_type": "stream",
     "text": [
      "('New York', 'Los Angeles', 'Chicago', 'Houston')\n"
     ]
    }
   ],
   "source": [
    "cities = (\"New York\", \"Los Angeles\", \"Chicago\", \"Houston\")\n",
    "print(cities)"
   ]
  },
  {
   "cell_type": "code",
   "execution_count": 42,
   "id": "a5164f10",
   "metadata": {},
   "outputs": [
    {
     "name": "stdout",
     "output_type": "stream",
     "text": [
      "Los Angeles\n"
     ]
    }
   ],
   "source": [
    "print(cities[1])"
   ]
  },
  {
   "cell_type": "code",
   "execution_count": 44,
   "id": "f0288ebd",
   "metadata": {},
   "outputs": [
    {
     "name": "stdout",
     "output_type": "stream",
     "text": [
      "ny: New York la: Los Angeles ch: Chicago ho: Houston\n"
     ]
    }
   ],
   "source": [
    "ny, la, ch, ho = cities\n",
    "print(\"ny:\", ny, \"la:\", la, \"ch:\", ch, \"ho:\", ho)"
   ]
  },
  {
   "cell_type": "code",
   "execution_count": 46,
   "id": "70edf2f6",
   "metadata": {},
   "outputs": [
    {
     "name": "stdout",
     "output_type": "stream",
     "text": [
      "1\n",
      "1\n",
      "1\n",
      "1\n"
     ]
    }
   ],
   "source": [
    "print(cities.count(ny))\n",
    "print(cities.count(la))\n",
    "print(cities.count(ch))\n",
    "print(cities.count(ho))"
   ]
  },
  {
   "cell_type": "code",
   "execution_count": 47,
   "id": "67293b81",
   "metadata": {},
   "outputs": [
    {
     "data": {
      "text/plain": [
       "3"
      ]
     },
     "execution_count": 47,
     "metadata": {},
     "output_type": "execute_result"
    }
   ],
   "source": [
    "cities.index(ho)"
   ]
  },
  {
   "cell_type": "markdown",
   "id": "3687a850",
   "metadata": {},
   "source": [
    "### 🚀 Tema 5: Sets (Conjuntos) en Python\n",
    "\n",
    "Los **sets** son colecciones **no ordenadas** de elementos **únicos**. Se crean con `{}` o `set()`.\n",
    "\n",
    "- No guardan orden ni permiten acceso por índice.\n",
    "- Eliminan duplicados automáticamente.\n",
    "- Son mutables (puedes añadir y quitar elementos).\n",
    "- Útiles para pruebas de pertenencia y operaciones de conjuntos (unión, intersección…).\n",
    "\n",
    "**Conceptos clave**\n",
    "- `set()` crea un set vacío ( `{}` crea un diccionario).\n",
    "- Solo admiten elementos **hashables** (no listas ni otros sets).\n",
    "- Ideales para deduplicar y para comparaciones rápidas entre colecciones.\n"
   ]
  },
  {
   "cell_type": "code",
   "execution_count": null,
   "id": "b170140e",
   "metadata": {},
   "outputs": [
    {
     "name": "stdout",
     "output_type": "stream",
     "text": [
      "True\n",
      "{'Barcelona', 'Real Madrid', 'Betis', 'Sevilla'}\n",
      "{'Sevilla'}\n"
     ]
    }
   ],
   "source": [
    "# Ejemplo de sets en Python\n",
    "teams = {\"Real Madrid\", \"Barcelona\", \"Sevilla\"}\n",
    "\n",
    "# Añadir (sin duplicados)\n",
    "teams.add(\"Real Madrid\")    # no cambia\n",
    "teams.add(\"Betis\")\n",
    "\n",
    "# Comprobar pertenencia\n",
    "print(\"Sevilla\" in teams)   # True\n",
    "\n",
    "# Eliminar sin error si no existe\n",
    "teams.discard(\"Valencia\")\n",
    "\n",
    "# Operaciones de conjuntos\n",
    "big = {\"Real Madrid\", \"Barcelona\", \"Atleti\", \"Sevilla\"}\n",
    "south = {\"Sevilla\", \"Betis\"}\n",
    "\n",
    "print(teams)\n",
    "print(big.intersection(south))  # {'Sevilla'}"
   ]
  },
  {
   "cell_type": "markdown",
   "id": "c97000c3",
   "metadata": {},
   "source": [
    "#### 📦 Caja de herramientas – Sets\n",
    "\n",
    "```python\n",
    "# add(x) → añade un elemento\n",
    "s = {1, 2}; s.add(3)  # {1, 2, 3}\n",
    "\n",
    "# update(iterable) → añade varios elementos\n",
    "s.update([4, 5])      # {1, 2, 3, 4, 5}\n",
    "\n",
    "# remove(x) → elimina (error si no existe)\n",
    "s.remove(5)           # {1, 2, 3, 4}\n",
    "\n",
    "# discard(x) → elimina si existe (sin error si no)\n",
    "s.discard(99)         # {1, 2, 3, 4}\n",
    "\n",
    "# pop() → elimina y devuelve un elemento arbitrario\n",
    "s.pop()               # devuelve algún elemento; s se reduce\n",
    "\n",
    "# clear() → vacía el set\n",
    "s.clear()             # set()\n",
    "\n",
    "# union(t) → unión de conjuntos\n",
    "{1,2}.union({2,3})                  # {1, 2, 3}\n",
    "\n",
    "# intersection(t) → intersección\n",
    "{1,2,3}.intersection({2,3,4})       # {2, 3}\n",
    "\n",
    "# difference(t) → diferencia\n",
    "{1,2,3}.difference({2,4})           # {1, 3}\n",
    "\n",
    "# symmetric_difference(t) → solo en uno de los dos\n",
    "{1,2,3}.symmetric_difference({2,4}) # {1, 3, 4}\n",
    "\n",
    "# issubset(t) → es subconjunto\n",
    "{1,2}.issubset({1,2,3})             # True\n",
    "\n",
    "# issuperset(t) → es superconjunto\n",
    "{1,2,3}.issuperset({1,2})           # True\n",
    "\n",
    "# isdisjoint(t) → sin elementos en común\n",
    "{1,2}.isdisjoint({3,4})             # True\n",
    "\n",
    "# copy() → copia superficial\n",
    "t = {1,2,3}; u = t.copy()           # u = {1, 2, 3}"
   ]
  },
  {
   "cell_type": "markdown",
   "id": "0da41a41",
   "metadata": {},
   "source": [
    "#### 📝 Ejercicios\n",
    "\n",
    "1. Sets\n",
    "\n",
    "* Crea un set con varios equipos incluyendo duplicados y comprueba que se eliminan.\n",
    "\n",
    "* Añade dos equipos nuevos de una sola vez.\n",
    "\n",
    "* Elimina un equipo con `remove()` y otro con `discard()` (prueba a descartar uno que no exista).\n",
    "\n",
    "* Calcula la intersección, unión y diferencia entre dos sets de equipos.\n",
    "\n",
    "* Comprueba si un set es subconjunto de otro."
   ]
  },
  {
   "cell_type": "code",
   "execution_count": 59,
   "id": "5cc39b55",
   "metadata": {},
   "outputs": [
    {
     "name": "stdout",
     "output_type": "stream",
     "text": [
      "{'Barcelona', 'Real Madrid', 'Betis', 'Cádiz', 'Recreativo de Huelva'}\n"
     ]
    }
   ],
   "source": [
    "teams = {\"Real Madrid\", \"Barcelona\", \"Recreativo de Huelva\", \"Betis\", \"Cádiz\", \"Real Madrid\"}\n",
    "print(teams)"
   ]
  },
  {
   "cell_type": "code",
   "execution_count": 60,
   "id": "0b0ced3d",
   "metadata": {},
   "outputs": [
    {
     "name": "stdout",
     "output_type": "stream",
     "text": [
      "{'Barcelona', 'Real Madrid', 'Córdoba', 'Betis', 'Cádiz', 'Recreativo de Huelva', 'Málaga'}\n"
     ]
    }
   ],
   "source": [
    "teams.update([\"Córdoba\", \"Málaga\"])\n",
    "print(teams)"
   ]
  },
  {
   "cell_type": "code",
   "execution_count": null,
   "id": "01be6a59",
   "metadata": {},
   "outputs": [
    {
     "name": "stdout",
     "output_type": "stream",
     "text": [
      "{'Barcelona', 'Real Madrid', 'Betis', 'Cádiz', 'Recreativo de Huelva', 'Málaga'}\n",
      "{'Barcelona', 'Real Madrid', 'Betis', 'Cádiz', 'Recreativo de Huelva'}\n",
      "{'Barcelona', 'Real Madrid', 'Betis', 'Cádiz', 'Recreativo de Huelva'}\n"
     ]
    }
   ],
   "source": [
    "teams.remove(\"Córdoba\")\n",
    "print(teams)\n",
    "teams.discard(\"Málaga\")\n",
    "print(teams)\n",
    "teams.discard(\"Athletic Club\")\n",
    "print(teams)\n",
    "\n",
    "# Con remove nos aparece error si intentamos borrar algo que no está pero con discard no pasa."
   ]
  },
  {
   "cell_type": "code",
   "execution_count": 63,
   "id": "d805e51f",
   "metadata": {},
   "outputs": [
    {
     "name": "stdout",
     "output_type": "stream",
     "text": [
      "{'Athletic Club', 'Atlético de Madrid, Recreativo de Huelva, Betis'}\n"
     ]
    }
   ],
   "source": [
    "new_teams = {\"Athletic Club\", \"Atlético de Madrid, Recreativo de Huelva, Betis\"}\n",
    "print(new_teams)"
   ]
  },
  {
   "cell_type": "code",
   "execution_count": 67,
   "id": "83815b8b",
   "metadata": {},
   "outputs": [
    {
     "name": "stdout",
     "output_type": "stream",
     "text": [
      "{'Betis', 'Recreativo de Huelva'}\n",
      "{'Barcelona', 'Real Madrid', 'Atlético de Madrid', 'Betis', 'Athletic Club', 'Cádiz', 'Recreativo de Huelva'}\n",
      "{'Barcelona', 'Real Madrid', 'Cádiz'}\n"
     ]
    }
   ],
   "source": [
    "teams = {\"Real Madrid\", \"Barcelona\", \"Recreativo de Huelva\", \"Betis\", \"Cádiz\"}\n",
    "new_teams = {\"Athletic Club\", \"Atlético de Madrid\", \"Recreativo de Huelva\", \"Betis\"}\n",
    "\n",
    "print(teams.intersection(new_teams))\n",
    "print(teams.union(new_teams))\n",
    "print(teams.difference(new_teams))"
   ]
  },
  {
   "cell_type": "code",
   "execution_count": 68,
   "id": "14a90e4d",
   "metadata": {},
   "outputs": [
    {
     "name": "stdout",
     "output_type": "stream",
     "text": [
      "False\n"
     ]
    }
   ],
   "source": [
    "print(teams.issubset(new_teams))"
   ]
  },
  {
   "cell_type": "code",
   "execution_count": 69,
   "id": "826821f6",
   "metadata": {},
   "outputs": [
    {
     "name": "stdout",
     "output_type": "stream",
     "text": [
      "{'Barcelona', 'Real Madrid', 'Atlético de Madrid', 'Athletic Club', 'Cádiz'}\n",
      "True\n"
     ]
    }
   ],
   "source": [
    "print(teams.symmetric_difference(new_teams))\n",
    "print( {\"Betis\", \"Cádiz\"}.issubset(teams) )   "
   ]
  },
  {
   "cell_type": "markdown",
   "id": "9eaedbb3",
   "metadata": {},
   "source": [
    "### 🚀 Tema 6: Strings en Python\n",
    "\n",
    "Los **strings** (`str`) representan texto. Se crean con comillas simples `'...'` o dobles `\"...\"`.\n",
    "\n",
    "- Son **inmutables** (no puedes modificar un carácter en sitio).\n",
    "- Admiten **indexación** y **slicing** como las listas.\n",
    "- Se **concatenan** con `+` y se **repiten** con `*`.\n",
    "- Para interpolar variables, usa **f-strings**: `f\"Hola, {nombre}\"`.\n",
    "\n",
    "**Conceptos clave**\n",
    "- Inmutables → cualquier “cambio” crea un string nuevo.\n",
    "- Muy usados en ETL/EDA para limpiar columnas de texto.\n",
    "- Métodos típicos: `strip`, `lower/upper/title`, `replace`, `split/join`, `find`, `count`, `startswith`, `endswith`.\n"
   ]
  },
  {
   "cell_type": "code",
   "execution_count": 1,
   "id": "704b5a9d",
   "metadata": {},
   "outputs": [
    {
     "name": "stdout",
     "output_type": "stream",
     "text": [
      "Hola, Juan Manuel!\n",
      "Data Science con Python\n",
      "  data science con python  \n",
      "__Data_Science_con_Python__\n",
      "P n\n",
      "yth\n",
      "nohtyP\n"
     ]
    }
   ],
   "source": [
    "# Ejemplo de strings en Python\n",
    "name = \"juan manuel\"\n",
    "message = f\"Hola, {name.title()}!\"\n",
    "print(message)  # Hola, Juan Manuel!\n",
    "\n",
    "text = \"  Data Science con Python  \"\n",
    "print(text.strip())          # quita espacios extremos\n",
    "print(text.lower())          # pasa a minúsculas\n",
    "print(text.replace(\" \", \"_\"))# reemplaza espacios por guiones bajos\n",
    "\n",
    "# Indexación y slicing\n",
    "s = \"Python\"\n",
    "print(s[0], s[-1])   # P n\n",
    "print(s[1:4])        # yth\n",
    "print(s[::-1])       # nohytP (reversa)"
   ]
  },
  {
   "cell_type": "markdown",
   "id": "f0f1415d",
   "metadata": {},
   "source": [
    "#### 📦 Caja de herramientas – Strings\n",
    "\n",
    "```python\n",
    "# strip(), lstrip(), rstrip() → quitan espacios (u otros caracteres) en extremos\n",
    "\"  hola  \".strip()                 # \"hola\"\n",
    "\"---hola---\".strip(\"-\")            # \"hola\"\n",
    "\n",
    "# lower(), upper(), title(), capitalize(), swapcase()\n",
    "\"DaTa\".lower()                     # \"data\"\n",
    "\"data science\".title()             # \"Data Science\"\n",
    "\n",
    "# replace(old, new[, count]) → reemplazo\n",
    "\"1,2,3\".replace(\",\", \";\")          # \"1;2;3\"\n",
    "\n",
    "# split(sep) → lista; join(iterable) → une con separador\n",
    "\"a,b,c\".split(\",\")                 # [\"a\",\"b\",\"c\"]\n",
    "\"-\".join([\"2025\",\"08\",\"28\"])       # \"2025-08-28\"\n",
    "\n",
    "# find(sub), rfind(sub) → índice o -1; index(sub) lanza error si no está\n",
    "\"abracadabra\".find(\"bra\")          # 1\n",
    "\"abracadabra\".rfind(\"bra\")         # 8\n",
    "\n",
    "# count(sub)\n",
    "\"banana\".count(\"na\")               # 2\n",
    "\n",
    "# startswith(), endswith()\n",
    "\"report.csv\".endswith(\".csv\")      # True\n",
    "\n",
    "# in → pertenencia\n",
    "\"py\" in \"python\"                   # True\n",
    "\n",
    "# isdigit(), isalpha(), isalnum(), isspace()\n",
    "\"123\".isdigit()                    # True\n",
    "\"abc\".isalpha()                    # True\n",
    "\n",
    "# zfill(n), rjust(n, fill), ljust(n, fill) → padding\n",
    "\"42\".zfill(5)                      # \"00042\"\n",
    "\"hi\".rjust(5, \".\")                 # \"...hi\"\n",
    "\n",
    "# formateo: f-strings\n",
    "x, y = 3.14159, 0.125\n",
    "f\"π≈{x:.2f} | pct={y:.1%}\"         # \"π≈3.14 | pct=12.5%\"\n",
    "\n"
   ]
  },
  {
   "cell_type": "markdown",
   "id": "de15d51c",
   "metadata": {},
   "source": [
    "#### 📝 Ejercicios\n",
    "\n",
    "1. Strings\n",
    "\n",
    "* Dado `raw = \"   aprendizaje AUTOMÁTICO con python   \"`, limpia espacios y conviértelo a formato **título**.\n",
    "\n",
    "* A partir de `\"2025,08,28\"`, obtén `\"2025-08-28\"` usando `split` y `join`.\n",
    "\n",
    "* En el texto `\"datos,datos,datos\"`, reemplaza solo **la primera** coma por un punto.\n",
    "\n",
    "* Comprueba si `\"README.md\"` termina en `.md` y si contiene `\"ME\"` (sensibilidad a mayúsculas).\n",
    "\n",
    "* Con `s = \"Ciencia de datos\"`, muestra: primer carácter, último, `\"de d\"`, y el string invertido."
   ]
  },
  {
   "cell_type": "code",
   "execution_count": 7,
   "id": "536b3dee",
   "metadata": {},
   "outputs": [
    {
     "data": {
      "text/plain": [
       "'Aprendizaje Automático Con Python'"
      ]
     },
     "execution_count": 7,
     "metadata": {},
     "output_type": "execute_result"
    }
   ],
   "source": [
    "raw = \"   aprendizaje AUTOMÁTICO con python   \"\n",
    "raw_title = raw.strip().lower().title()\n",
    "raw_title"
   ]
  },
  {
   "cell_type": "code",
   "execution_count": 12,
   "id": "5117f381",
   "metadata": {},
   "outputs": [
    {
     "data": {
      "text/plain": [
       "'2025-08-28'"
      ]
     },
     "execution_count": 12,
     "metadata": {},
     "output_type": "execute_result"
    }
   ],
   "source": [
    "date_nf = \"2025,08,28\"\n",
    "date_nc = date_nf.split(\",\")\n",
    "date_nc\n",
    "date = \"-\".join(date_nc)\n",
    "date"
   ]
  }
 ],
 "metadata": {
  "kernelspec": {
   "display_name": "luz",
   "language": "python",
   "name": "python3"
  },
  "language_info": {
   "codemirror_mode": {
    "name": "ipython",
    "version": 3
   },
   "file_extension": ".py",
   "mimetype": "text/x-python",
   "name": "python",
   "nbconvert_exporter": "python",
   "pygments_lexer": "ipython3",
   "version": "3.10.18"
  }
 },
 "nbformat": 4,
 "nbformat_minor": 5
}
